{
 "cells": [
  {
   "cell_type": "markdown",
   "metadata": {},
   "source": [
    "## Since it's been freezing in houston recently, it might be fun to have a dataset that takes stock of Houston's current mood. The data was pulled using twitter's api following the #houwx hashtag."
   ]
  },
  {
   "cell_type": "code",
   "execution_count": 1,
   "metadata": {
    "collapsed": true
   },
   "outputs": [],
   "source": [
    "# import all necessary packages and functions.\n",
    "import csv\n",
    "from datetime import datetime\n",
    "import numpy as np\n",
    "import pandas as pd\n",
    "import seaborn as sns\n",
    "from collections import defaultdict\n",
    "%matplotlib inline"
   ]
  },
  {
   "cell_type": "code",
   "execution_count": 2,
   "metadata": {
    "collapsed": true
   },
   "outputs": [],
   "source": [
    "# file locations\n",
    "file = 'data/houwx.csv'\n",
    "data = pd.read_csv(file)"
   ]
  },
  {
   "cell_type": "code",
   "execution_count": 3,
   "metadata": {},
   "outputs": [
    {
     "data": {
      "text/html": [
       "<div>\n",
       "<style>\n",
       "    .dataframe thead tr:only-child th {\n",
       "        text-align: right;\n",
       "    }\n",
       "\n",
       "    .dataframe thead th {\n",
       "        text-align: left;\n",
       "    }\n",
       "\n",
       "    .dataframe tbody tr th {\n",
       "        vertical-align: top;\n",
       "    }\n",
       "</style>\n",
       "<table border=\"1\" class=\"dataframe\">\n",
       "  <thead>\n",
       "    <tr style=\"text-align: right;\">\n",
       "      <th></th>\n",
       "      <th>created_at</th>\n",
       "      <th>description</th>\n",
       "      <th>favorite_count</th>\n",
       "      <th>followers</th>\n",
       "      <th>id</th>\n",
       "      <th>is_quote_status</th>\n",
       "      <th>retweet_count</th>\n",
       "      <th>trunc_text</th>\n",
       "      <th>user_location</th>\n",
       "      <th>username</th>\n",
       "      <th>verified</th>\n",
       "      <th>text</th>\n",
       "    </tr>\n",
       "  </thead>\n",
       "  <tbody>\n",
       "    <tr>\n",
       "      <th>0</th>\n",
       "      <td>Fri Jan 19 05:24:02 +0000 2018</td>\n",
       "      <td>NaN</td>\n",
       "      <td>0</td>\n",
       "      <td>568</td>\n",
       "      <td>954222899832999938</td>\n",
       "      <td>False</td>\n",
       "      <td>19</td>\n",
       "      <td>RT @HCSOTexas: #houtraffic - #houwx \\n TXDOT r...</td>\n",
       "      <td>Houston, TX</td>\n",
       "      <td>DrLatekiLewis</td>\n",
       "      <td>False</td>\n",
       "      <td>RT @HCSOTexas: #houtraffic - #houwx \\n TXDOT r...</td>\n",
       "    </tr>\n",
       "    <tr>\n",
       "      <th>1</th>\n",
       "      <td>Fri Jan 19 05:24:02 +0000 2018</td>\n",
       "      <td>NaN</td>\n",
       "      <td>0</td>\n",
       "      <td>568</td>\n",
       "      <td>954222899832999938</td>\n",
       "      <td>False</td>\n",
       "      <td>19</td>\n",
       "      <td>RT @HCSOTexas: #houtraffic - #houwx \\n TXDOT r...</td>\n",
       "      <td>Houston, TX</td>\n",
       "      <td>DrLatekiLewis</td>\n",
       "      <td>False</td>\n",
       "      <td>RT @HCSOTexas: #houtraffic - #houwx \\n TXDOT r...</td>\n",
       "    </tr>\n",
       "    <tr>\n",
       "      <th>2</th>\n",
       "      <td>Fri Jan 19 05:24:02 +0000 2018</td>\n",
       "      <td>NaN</td>\n",
       "      <td>0</td>\n",
       "      <td>568</td>\n",
       "      <td>954222899832999938</td>\n",
       "      <td>False</td>\n",
       "      <td>19</td>\n",
       "      <td>RT @HCSOTexas: #houtraffic - #houwx \\n TXDOT r...</td>\n",
       "      <td>Houston, TX</td>\n",
       "      <td>DrLatekiLewis</td>\n",
       "      <td>False</td>\n",
       "      <td>RT @HCSOTexas: #houtraffic - #houwx \\n TXDOT r...</td>\n",
       "    </tr>\n",
       "    <tr>\n",
       "      <th>3</th>\n",
       "      <td>Fri Jan 19 05:24:02 +0000 2018</td>\n",
       "      <td>NaN</td>\n",
       "      <td>0</td>\n",
       "      <td>568</td>\n",
       "      <td>954222899832999938</td>\n",
       "      <td>False</td>\n",
       "      <td>19</td>\n",
       "      <td>RT @HCSOTexas: #houtraffic - #houwx \\n TXDOT r...</td>\n",
       "      <td>Houston, TX</td>\n",
       "      <td>DrLatekiLewis</td>\n",
       "      <td>False</td>\n",
       "      <td>RT @HCSOTexas: #houtraffic - #houwx \\n TXDOT r...</td>\n",
       "    </tr>\n",
       "    <tr>\n",
       "      <th>4</th>\n",
       "      <td>Fri Jan 19 05:24:02 +0000 2018</td>\n",
       "      <td>NaN</td>\n",
       "      <td>0</td>\n",
       "      <td>568</td>\n",
       "      <td>954222899832999938</td>\n",
       "      <td>False</td>\n",
       "      <td>19</td>\n",
       "      <td>RT @HCSOTexas: #houtraffic - #houwx \\n TXDOT r...</td>\n",
       "      <td>Houston, TX</td>\n",
       "      <td>DrLatekiLewis</td>\n",
       "      <td>False</td>\n",
       "      <td>RT @HCSOTexas: #houtraffic - #houwx \\n TXDOT r...</td>\n",
       "    </tr>\n",
       "  </tbody>\n",
       "</table>\n",
       "</div>"
      ],
      "text/plain": [
       "                       created_at description  favorite_count  followers  \\\n",
       "0  Fri Jan 19 05:24:02 +0000 2018         NaN               0        568   \n",
       "1  Fri Jan 19 05:24:02 +0000 2018         NaN               0        568   \n",
       "2  Fri Jan 19 05:24:02 +0000 2018         NaN               0        568   \n",
       "3  Fri Jan 19 05:24:02 +0000 2018         NaN               0        568   \n",
       "4  Fri Jan 19 05:24:02 +0000 2018         NaN               0        568   \n",
       "\n",
       "                   id  is_quote_status  retweet_count  \\\n",
       "0  954222899832999938            False             19   \n",
       "1  954222899832999938            False             19   \n",
       "2  954222899832999938            False             19   \n",
       "3  954222899832999938            False             19   \n",
       "4  954222899832999938            False             19   \n",
       "\n",
       "                                          trunc_text user_location  \\\n",
       "0  RT @HCSOTexas: #houtraffic - #houwx \\n TXDOT r...   Houston, TX   \n",
       "1  RT @HCSOTexas: #houtraffic - #houwx \\n TXDOT r...   Houston, TX   \n",
       "2  RT @HCSOTexas: #houtraffic - #houwx \\n TXDOT r...   Houston, TX   \n",
       "3  RT @HCSOTexas: #houtraffic - #houwx \\n TXDOT r...   Houston, TX   \n",
       "4  RT @HCSOTexas: #houtraffic - #houwx \\n TXDOT r...   Houston, TX   \n",
       "\n",
       "        username  verified                                               text  \n",
       "0  DrLatekiLewis     False  RT @HCSOTexas: #houtraffic - #houwx \\n TXDOT r...  \n",
       "1  DrLatekiLewis     False  RT @HCSOTexas: #houtraffic - #houwx \\n TXDOT r...  \n",
       "2  DrLatekiLewis     False  RT @HCSOTexas: #houtraffic - #houwx \\n TXDOT r...  \n",
       "3  DrLatekiLewis     False  RT @HCSOTexas: #houtraffic - #houwx \\n TXDOT r...  \n",
       "4  DrLatekiLewis     False  RT @HCSOTexas: #houtraffic - #houwx \\n TXDOT r...  "
      ]
     },
     "execution_count": 3,
     "metadata": {},
     "output_type": "execute_result"
    }
   ],
   "source": [
    "data.head()"
   ]
  },
  {
   "cell_type": "markdown",
   "metadata": {},
   "source": [
    "## Explore the locations"
   ]
  },
  {
   "cell_type": "code",
   "execution_count": 4,
   "metadata": {
    "collapsed": true
   },
   "outputs": [],
   "source": [
    "data['dummy']=1"
   ]
  },
  {
   "cell_type": "code",
   "execution_count": 7,
   "metadata": {
    "collapsed": true
   },
   "outputs": [],
   "source": [
    "user_freq = data.groupby(['user_location','id']).sum()"
   ]
  },
  {
   "cell_type": "code",
   "execution_count": 8,
   "metadata": {},
   "outputs": [
    {
     "name": "stdout",
     "output_type": "stream",
     "text": [
      "                                                   favorite_count  followers  \\\n",
      "user_location                  id                                              \n",
      "2604 Dunlavy                   953711554213621761               0      67776   \n",
      "4848 Main St. Houston TX 77002 953409476165500928              96     497664   \n",
      "Alief, TX                      953703025620717573             154      11858   \n",
      "Alpha Chi, Mother of Texas     953980415190142976               0    1076768   \n",
      "Asgardia                       953047159817080832               0     222750   \n",
      "Austin/Houston                 953994158439530498               0     420320   \n",
      "Bacliff, Texas                 953257426593157120               1         52   \n",
      "Beaumont, TX                   953979892835766274               0    2203840   \n",
      "Bellaire, TX                   953256427220500481               0     450710   \n",
      "                               953297857481793536            1170     450710   \n",
      "                               953733248919789568             260     450710   \n",
      "Chattanooga, TN                953047618501992448               0      18378   \n",
      "Cypress, TX                    953466852780527617              96      22272   \n",
      "Cypress, Texas                 953089027544113153               0       4920   \n",
      "Freiburg im Breisgau           953126559501692928               0     121950   \n",
      "HTown                          953979165077884928               0     140096   \n",
      "Harris County, TX              953983060055330816               0   12450816   \n",
      "                               953983096793288704               0   12450816   \n",
      "Harris County, Texas           953485963006750720            2784     229248   \n",
      "Houston                        953447962385973248               0     562230   \n",
      "                               953488903167766528             192      66048   \n",
      "                               953982029976231936               0    1288736   \n",
      "                               954048114259873798            5920    1376992   \n",
      "                               954061350862577666               0      41440   \n",
      "Houston TX                     953299860651945984               9      23904   \n",
      "                               953405834591178752             192     254976   \n",
      "                               953405987481931776               0     254976   \n",
      "                               953406362368737280               0     254976   \n",
      "                               953406511748993024               0     254976   \n",
      "                               953406747120754688              96     254976   \n",
      "...                                                           ...        ...   \n",
      "United States                  954064172479864833               0    2366816   \n",
      "West University Place, TX      952539770651017218               0     100980   \n",
      "                               952983322019401728             180     100980   \n",
      "                               953013451173048320             180     100980   \n",
      "                               953015984494989314              90     100980   \n",
      "                               953046578465472512             180     100980   \n",
      "                               953057598764351488            1080     100980   \n",
      "                               953086115321434113             180     100980   \n",
      "                               953119780826992641             180     100980   \n",
      "                               953283744743477250             270     100980   \n",
      "                               953284219740086273             360     100980   \n",
      "                               953285726656978944             440     123420   \n",
      "                               953286746749440000             550     123420   \n",
      "                               953288373447380994             330     123420   \n",
      "                               953292986628100096             770     123420   \n",
      "                               953295499729219585             540     100980   \n",
      "                               953300758698618885             880     123420   \n",
      "                               953315833031413761             660     123420   \n",
      "                               953316471429582848             660     123420   \n",
      "                               953349922039967746            1760     123420   \n",
      "                               953369048728965125             110     123420   \n",
      "                               953385791551655938             110     123420   \n",
      "                               953398760192831489             660     123420   \n",
      "                               953497429168488448             630     100980   \n",
      "                               953657122276900869            6120     100980   \n",
      "                               953762775590998017             450     100980   \n",
      "                               954010247080890368            8400    1570800   \n",
      "                               954163844036874240            9800    1570800   \n",
      "houston                        954028634964221953               0     378880   \n",
      "iPhone: 29.463654,-98.473572   953625999413010432              96     338016   \n",
      "\n",
      "                                                   is_quote_status  \\\n",
      "user_location                  id                                    \n",
      "2604 Dunlavy                   953711554213621761                0   \n",
      "4848 Main St. Houston TX 77002 953409476165500928                0   \n",
      "Alief, TX                      953703025620717573                0   \n",
      "Alpha Chi, Mother of Texas     953980415190142976                0   \n",
      "Asgardia                       953047159817080832                0   \n",
      "Austin/Houston                 953994158439530498                0   \n",
      "Bacliff, Texas                 953257426593157120                0   \n",
      "Beaumont, TX                   953979892835766274                0   \n",
      "Bellaire, TX                   953256427220500481              130   \n",
      "                               953297857481793536                0   \n",
      "                               953733248919789568              130   \n",
      "Chattanooga, TN                953047618501992448                0   \n",
      "Cypress, TX                    953466852780527617                0   \n",
      "Cypress, Texas                 953089027544113153                0   \n",
      "Freiburg im Breisgau           953126559501692928                0   \n",
      "HTown                          953979165077884928                0   \n",
      "Harris County, TX              953983060055330816                0   \n",
      "                               953983096793288704                0   \n",
      "Harris County, Texas           953485963006750720                0   \n",
      "Houston                        953447962385973248                0   \n",
      "                               953488903167766528                0   \n",
      "                               953982029976231936                0   \n",
      "                               954048114259873798                0   \n",
      "                               954061350862577666                0   \n",
      "Houston TX                     953299860651945984                0   \n",
      "                               953405834591178752                0   \n",
      "                               953405987481931776                0   \n",
      "                               953406362368737280                0   \n",
      "                               953406511748993024                0   \n",
      "                               953406747120754688                0   \n",
      "...                                                            ...   \n",
      "United States                  954064172479864833                0   \n",
      "West University Place, TX      952539770651017218               90   \n",
      "                               952983322019401728                0   \n",
      "                               953013451173048320                0   \n",
      "                               953015984494989314               90   \n",
      "                               953046578465472512                0   \n",
      "                               953057598764351488                0   \n",
      "                               953086115321434113                0   \n",
      "                               953119780826992641                0   \n",
      "                               953283744743477250                0   \n",
      "                               953284219740086273                0   \n",
      "                               953285726656978944                0   \n",
      "                               953286746749440000                0   \n",
      "                               953288373447380994                0   \n",
      "                               953292986628100096                0   \n",
      "                               953295499729219585                0   \n",
      "                               953300758698618885                0   \n",
      "                               953315833031413761                0   \n",
      "                               953316471429582848                0   \n",
      "                               953349922039967746                0   \n",
      "                               953369048728965125                0   \n",
      "                               953385791551655938                0   \n",
      "                               953398760192831489                0   \n",
      "                               953497429168488448                0   \n",
      "                               953657122276900869                0   \n",
      "                               953762775590998017                0   \n",
      "                               954010247080890368                0   \n",
      "                               954163844036874240                0   \n",
      "houston                        954028634964221953                0   \n",
      "iPhone: 29.463654,-98.473572   953625999413010432               96   \n",
      "\n",
      "                                                   retweet_count  verified  \\\n",
      "user_location                  id                                            \n",
      "2604 Dunlavy                   953711554213621761              0         0   \n",
      "4848 Main St. Houston TX 77002 953409476165500928             96         0   \n",
      "Alief, TX                      953703025620717573              0         0   \n",
      "Alpha Chi, Mother of Texas     953980415190142976          13984         0   \n",
      "Asgardia                       953047159817080832             90         0   \n",
      "Austin/Houston                 953994158439530498          10656         0   \n",
      "Bacliff, Texas                 953257426593157120              0         0   \n",
      "Beaumont, TX                   953979892835766274           1216        64   \n",
      "Bellaire, TX                   953256427220500481            130         0   \n",
      "                               953297857481793536            390         0   \n",
      "                               953733248919789568            260         0   \n",
      "Chattanooga, TN                953047618501992448              6         0   \n",
      "Cypress, TX                    953466852780527617              0         0   \n",
      "Cypress, Texas                 953089027544113153              0         0   \n",
      "Freiburg im Breisgau           953126559501692928            180         0   \n",
      "HTown                          953979165077884928            576         0   \n",
      "Harris County, TX              953983060055330816           8960         0   \n",
      "                               953983096793288704          17024         0   \n",
      "Harris County, Texas           953485963006750720           1920         0   \n",
      "Houston                        953447962385973248              0        90   \n",
      "                               953488903167766528              0         0   \n",
      "                               953982029976231936          13984         0   \n",
      "                               954048114259873798              0         0   \n",
      "                               954061350862577666         417952         0   \n",
      "Houston TX                     953299860651945984              0         0   \n",
      "                               953405834591178752              0         0   \n",
      "                               953405987481931776              0         0   \n",
      "                               953406362368737280              0         0   \n",
      "                               953406511748993024              0         0   \n",
      "                               953406747120754688              0         0   \n",
      "...                                                          ...       ...   \n",
      "United States                  954064172479864833           2368         0   \n",
      "West University Place, TX      952539770651017218              0         0   \n",
      "                               952983322019401728             90         0   \n",
      "                               953013451173048320              0         0   \n",
      "                               953015984494989314              0         0   \n",
      "                               953046578465472512             90         0   \n",
      "                               953057598764351488            180         0   \n",
      "                               953086115321434113              0         0   \n",
      "                               953119780826992641             90         0   \n",
      "                               953283744743477250            180         0   \n",
      "                               953284219740086273              0         0   \n",
      "                               953285726656978944            110         0   \n",
      "                               953286746749440000            110         0   \n",
      "                               953288373447380994              0         0   \n",
      "                               953292986628100096            770         0   \n",
      "                               953295499729219585            270         0   \n",
      "                               953300758698618885              0         0   \n",
      "                               953315833031413761            110         0   \n",
      "                               953316471429582848            330         0   \n",
      "                               953349922039967746            220         0   \n",
      "                               953369048728965125            110         0   \n",
      "                               953385791551655938              0         0   \n",
      "                               953398760192831489              0         0   \n",
      "                               953497429168488448              0         0   \n",
      "                               953657122276900869           2700         0   \n",
      "                               953762775590998017              0         0   \n",
      "                               954010247080890368              0         0   \n",
      "                               954163844036874240              0         0   \n",
      "houston                        954028634964221953          10656         0   \n",
      "iPhone: 29.463654,-98.473572   953625999413010432              0        96   \n",
      "\n",
      "                                                   dummy  \n",
      "user_location                  id                         \n",
      "2604 Dunlavy                   953711554213621761     96  \n",
      "4848 Main St. Houston TX 77002 953409476165500928     96  \n",
      "Alief, TX                      953703025620717573    154  \n",
      "Alpha Chi, Mother of Texas     953980415190142976    736  \n",
      "Asgardia                       953047159817080832     90  \n",
      "Austin/Houston                 953994158439530498   1184  \n",
      "Bacliff, Texas                 953257426593157120      1  \n",
      "Beaumont, TX                   953979892835766274     64  \n",
      "Bellaire, TX                   953256427220500481    130  \n",
      "                               953297857481793536    130  \n",
      "                               953733248919789568    130  \n",
      "Chattanooga, TN                953047618501992448      6  \n",
      "Cypress, TX                    953466852780527617     96  \n",
      "Cypress, Texas                 953089027544113153     12  \n",
      "Freiburg im Breisgau           953126559501692928     90  \n",
      "HTown                          953979165077884928     64  \n",
      "Harris County, TX              953983060055330816    896  \n",
      "                               953983096793288704    896  \n",
      "Harris County, Texas           953485963006750720     96  \n",
      "Houston                        953447962385973248     90  \n",
      "                               953488903167766528     96  \n",
      "                               953982029976231936    736  \n",
      "                               954048114259873798   1184  \n",
      "                               954061350862577666   1184  \n",
      "Houston TX                     953299860651945984      9  \n",
      "                               953405834591178752     96  \n",
      "                               953405987481931776     96  \n",
      "                               953406362368737280     96  \n",
      "                               953406511748993024     96  \n",
      "                               953406747120754688     96  \n",
      "...                                                  ...  \n",
      "United States                  954064172479864833   1184  \n",
      "West University Place, TX      952539770651017218     90  \n",
      "                               952983322019401728     90  \n",
      "                               953013451173048320     90  \n",
      "                               953015984494989314     90  \n",
      "                               953046578465472512     90  \n",
      "                               953057598764351488     90  \n",
      "                               953086115321434113     90  \n",
      "                               953119780826992641     90  \n",
      "                               953283744743477250     90  \n",
      "                               953284219740086273     90  \n",
      "                               953285726656978944    110  \n",
      "                               953286746749440000    110  \n",
      "                               953288373447380994    110  \n",
      "                               953292986628100096    110  \n",
      "                               953295499729219585     90  \n",
      "                               953300758698618885    110  \n",
      "                               953315833031413761    110  \n",
      "                               953316471429582848    110  \n",
      "                               953349922039967746    110  \n",
      "                               953369048728965125    110  \n",
      "                               953385791551655938    110  \n",
      "                               953398760192831489    110  \n",
      "                               953497429168488448     90  \n",
      "                               953657122276900869     90  \n",
      "                               953762775590998017     90  \n",
      "                               954010247080890368   1400  \n",
      "                               954163844036874240   1400  \n",
      "houston                        954028634964221953   1184  \n",
      "iPhone: 29.463654,-98.473572   953625999413010432     96  \n",
      "\n",
      "[217 rows x 6 columns]\n"
     ]
    }
   ],
   "source": [
    "print (user_freq)"
   ]
  },
  {
   "cell_type": "markdown",
   "metadata": {},
   "source": [
    "### Most locations make sense but there are some interesting/weird locations such as 'London'"
   ]
  },
  {
   "cell_type": "code",
   "execution_count": 10,
   "metadata": {},
   "outputs": [
    {
     "data": {
      "text/plain": [
       "54088    How To Bake Crispy Chicken Wings in The Oven\\n...\n",
       "54089    How To Bake Crispy Chicken Wings in The Oven\\n...\n",
       "54090    How To Bake Crispy Chicken Wings in The Oven\\n...\n",
       "54091    How To Bake Crispy Chicken Wings in The Oven\\n...\n",
       "54092    How To Bake Crispy Chicken Wings in The Oven\\n...\n",
       "54093    How To Bake Crispy Chicken Wings in The Oven\\n...\n",
       "54094    How To Bake Crispy Chicken Wings in The Oven\\n...\n",
       "54095    How To Bake Crispy Chicken Wings in The Oven\\n...\n",
       "54096    How To Bake Crispy Chicken Wings in The Oven\\n...\n",
       "54097    How To Bake Crispy Chicken Wings in The Oven\\n...\n",
       "54098    How To Bake Crispy Chicken Wings in The Oven\\n...\n",
       "54099    How To Bake Crispy Chicken Wings in The Oven\\n...\n",
       "54100    How To Bake Crispy Chicken Wings in The Oven\\n...\n",
       "54101    How To Bake Crispy Chicken Wings in The Oven\\n...\n",
       "54102    How To Bake Crispy Chicken Wings in The Oven\\n...\n",
       "54103    How To Bake Crispy Chicken Wings in The Oven\\n...\n",
       "54104    How To Bake Crispy Chicken Wings in The Oven\\n...\n",
       "54105    How To Bake Crispy Chicken Wings in The Oven\\n...\n",
       "54106    How To Bake Crispy Chicken Wings in The Oven\\n...\n",
       "54107    How To Bake Crispy Chicken Wings in The Oven\\n...\n",
       "54108    How To Bake Crispy Chicken Wings in The Oven\\n...\n",
       "54109    How To Bake Crispy Chicken Wings in The Oven\\n...\n",
       "54110    How To Bake Crispy Chicken Wings in The Oven\\n...\n",
       "54111    How To Bake Crispy Chicken Wings in The Oven\\n...\n",
       "54112    How To Bake Crispy Chicken Wings in The Oven\\n...\n",
       "54113    How To Bake Crispy Chicken Wings in The Oven\\n...\n",
       "54114    How To Bake Crispy Chicken Wings in The Oven\\n...\n",
       "54115    How To Bake Crispy Chicken Wings in The Oven\\n...\n",
       "54116    How To Bake Crispy Chicken Wings in The Oven\\n...\n",
       "54117    How To Bake Crispy Chicken Wings in The Oven\\n...\n",
       "                               ...                        \n",
       "54298    How To Bake Crispy Chicken Wings in The Oven\\n...\n",
       "54299    How To Bake Crispy Chicken Wings in The Oven\\n...\n",
       "54300    How To Bake Crispy Chicken Wings in The Oven\\n...\n",
       "54301    How To Bake Crispy Chicken Wings in The Oven\\n...\n",
       "54302    How To Bake Crispy Chicken Wings in The Oven\\n...\n",
       "54303    How To Bake Crispy Chicken Wings in The Oven\\n...\n",
       "54304    How To Bake Crispy Chicken Wings in The Oven\\n...\n",
       "54305    How To Bake Crispy Chicken Wings in The Oven\\n...\n",
       "54306    How To Bake Crispy Chicken Wings in The Oven\\n...\n",
       "54307    How To Bake Crispy Chicken Wings in The Oven\\n...\n",
       "54308    How To Bake Crispy Chicken Wings in The Oven\\n...\n",
       "54309    How To Bake Crispy Chicken Wings in The Oven\\n...\n",
       "54310    How To Bake Crispy Chicken Wings in The Oven\\n...\n",
       "54311    How To Bake Crispy Chicken Wings in The Oven\\n...\n",
       "54312    How To Bake Crispy Chicken Wings in The Oven\\n...\n",
       "54313    How To Bake Crispy Chicken Wings in The Oven\\n...\n",
       "54314    How To Bake Crispy Chicken Wings in The Oven\\n...\n",
       "54315    How To Bake Crispy Chicken Wings in The Oven\\n...\n",
       "54316    How To Bake Crispy Chicken Wings in The Oven\\n...\n",
       "54317    How To Bake Crispy Chicken Wings in The Oven\\n...\n",
       "54318    How To Bake Crispy Chicken Wings in The Oven\\n...\n",
       "54319    How To Bake Crispy Chicken Wings in The Oven\\n...\n",
       "54320    How To Bake Crispy Chicken Wings in The Oven\\n...\n",
       "54321    How To Bake Crispy Chicken Wings in The Oven\\n...\n",
       "54322    How To Bake Crispy Chicken Wings in The Oven\\n...\n",
       "54323    How To Bake Crispy Chicken Wings in The Oven\\n...\n",
       "54324    How To Bake Crispy Chicken Wings in The Oven\\n...\n",
       "54325    How To Bake Crispy Chicken Wings in The Oven\\n...\n",
       "54326    How To Bake Crispy Chicken Wings in The Oven\\n...\n",
       "54327    How To Bake Crispy Chicken Wings in The Oven\\n...\n",
       "Name: text, Length: 240, dtype: object"
      ]
     },
     "execution_count": 10,
     "metadata": {},
     "output_type": "execute_result"
    }
   ],
   "source": [
    "# Check those tweets posted in London\n",
    "data[data.user_location=='London'].text"
   ]
  },
  {
   "cell_type": "code",
   "execution_count": 27,
   "metadata": {},
   "outputs": [
    {
     "data": {
      "text/plain": [
       "<matplotlib.axes._subplots.AxesSubplot at 0x118cff7f0>"
      ]
     },
     "execution_count": 27,
     "metadata": {},
     "output_type": "execute_result"
    },
    {
     "data": {
      "image/png": "[encoded data removed]",
      "text/plain": [
       "<matplotlib.figure.Figure at 0x118ecb320>"
      ]
     },
     "metadata": {},
     "output_type": "display_data"
    }
   ],
   "source": [
    "sns.countplot(x = 'user_location',data=data)"
   ]
  },
  {
   "cell_type": "markdown",
   "metadata": {},
   "source": [
    "## Heavy users or light users?"
   ]
  },
  {
   "cell_type": "code",
   "execution_count": 13,
   "metadata": {
    "collapsed": true
   },
   "outputs": [],
   "source": [
    "def user_type(dummy):\n",
    "    if dummy < 50:\n",
    "        return 'light user'\n",
    "    elif dummy > 200: \n",
    "        return 'heavy user'\n",
    "    else:\n",
    "        return 'medium user'\n",
    "    \n",
    "user_freq['type'] = user_freq['dummy'].apply(user_type) "
   ]
  },
  {
   "cell_type": "code",
   "execution_count": 17,
   "metadata": {},
   "outputs": [
    {
     "data": {
      "text/plain": [
       "type\n",
       "heavy user     45072\n",
       "light user       867\n",
       "medium user     8860\n",
       "Name: dummy, dtype: int64"
      ]
     },
     "execution_count": 17,
     "metadata": {},
     "output_type": "execute_result"
    }
   ],
   "source": [
    "tweats = user_freq.groupby(['type']).dummy.sum()\n",
    "tweats"
   ]
  },
  {
   "cell_type": "code",
   "execution_count": 18,
   "metadata": {},
   "outputs": [
    {
     "data": {
      "text/plain": [
       "type\n",
       "heavy user     44\n",
       "light user     82\n",
       "medium user    91\n",
       "Name: dummy, dtype: int64"
      ]
     },
     "execution_count": 18,
     "metadata": {},
     "output_type": "execute_result"
    }
   ],
   "source": [
    "n = user_freq.groupby(['type']).dummy.count()\n",
    "n"
   ]
  },
  {
   "cell_type": "code",
   "execution_count": 19,
   "metadata": {},
   "outputs": [
    {
     "data": {
      "text/plain": [
       "type\n",
       "heavy user     1024.363636\n",
       "light user       10.573171\n",
       "medium user      97.362637\n",
       "Name: dummy, dtype: float64"
      ]
     },
     "execution_count": 19,
     "metadata": {},
     "output_type": "execute_result"
    }
   ],
   "source": [
    "tweats/n"
   ]
  },
  {
   "cell_type": "markdown",
   "metadata": {},
   "source": [
    "## It turns out the few heavy users tweeted a lot about the Houston traffic. The average number of tweets from heavy users is about 100 times of thoes from light users.\n",
    "\n",
    "## Next time when you see a tweet trend, it may be created by just few users.\n",
    "\n",
    "## Next, we will look into the tags."
   ]
  },
  {
   "cell_type": "code",
   "execution_count": 23,
   "metadata": {
    "collapsed": true
   },
   "outputs": [],
   "source": [
    "import re\n",
    "tag_re = re.compile(r'#\\S+\\s', re.IGNORECASE)"
   ]
  },
  {
   "cell_type": "code",
   "execution_count": 24,
   "metadata": {},
   "outputs": [],
   "source": [
    "tag_types = defaultdict(int)\n",
    "for tweat in data.text:\n",
    "    m = tag_re.search(tweat)\n",
    "    if m:\n",
    "        tag = m.group()\n",
    "        tag_types[tag]+=1"
   ]
  },
  {
   "cell_type": "code",
   "execution_count": 25,
   "metadata": {},
   "outputs": [
    {
     "data": {
      "text/plain": [
       "defaultdict(int,\n",
       "            {'#AyDiosFrio18 ': 96,\n",
       "             '#Brrrr ': 96,\n",
       "             '#CEDHOU ': 30,\n",
       "             '#Chicago ': 1,\n",
       "             '#Chicken ': 240,\n",
       "             '#CityOfWestU ': 220,\n",
       "             '#CityofWestU ': 200,\n",
       "             '#CityofWestU. ': 110,\n",
       "             '#Climate ': 1,\n",
       "             '#CraftSocial ': 96,\n",
       "             '#DreamActNow. ': 96,\n",
       "             '#GalvestonTX ': 4,\n",
       "             '#HISD ': 96,\n",
       "             '#HOUWX ': 96,\n",
       "             '#HarrisCounty ': 192,\n",
       "             '#Harvey. ': 96,\n",
       "             '#HomelessOutreachTeam, ': 4,\n",
       "             '#HouWx ': 96,\n",
       "             '#HouWx? ': 24,\n",
       "             '#Houston ': 4179,\n",
       "             '#Houston.\\n': 84,\n",
       "             '#HoustonIce ': 96,\n",
       "             '#HoustonSnow ': 16,\n",
       "             '#Houwx ': 192,\n",
       "             '#IceinHouston ': 20,\n",
       "             '#Icepocalypse2018 ': 1186,\n",
       "             '#ItsSoCold ': 12,\n",
       "             '#KHOU11 ': 108,\n",
       "             '#MCD ': 1188,\n",
       "             '#SnowDay ': 1,\n",
       "             '#Snowing ': 6,\n",
       "             '#SpringTX ': 6,\n",
       "             '#TrafficAlert ': 896,\n",
       "             '#TuesdayThoughts ': 6,\n",
       "             '#abc13 ': 1184,\n",
       "             '#actualsnow ': 154,\n",
       "             '#bcswx ': 1184,\n",
       "             '#closed ': 12,\n",
       "             '#clouds ': 6,\n",
       "             '#coldfront. ': 12,\n",
       "             '#feelslikeAlaska ': 9,\n",
       "             '#fox26wx ': 3552,\n",
       "             '#hgxspotter ': 200,\n",
       "             '#homeless ': 100,\n",
       "             '#hounews ': 9,\n",
       "             '#houstonmetro ': 96,\n",
       "             '#houstonsnow ': 96,\n",
       "             '#houstonsnowdaypart2\\n': 9,\n",
       "             '#houstonweather ': 2942,\n",
       "             '#houstonweather. ': 96,\n",
       "             '#houtraffic ': 17088,\n",
       "             '#houtx ': 8,\n",
       "             '#houwx ': 25081,\n",
       "             '#icing ': 6,\n",
       "             '#sleet ': 6,\n",
       "             '#sleeting ': 36,\n",
       "             '#snow ': 6,\n",
       "             '#snowday ': 4,\n",
       "             '#snowflakes ': 6,\n",
       "             '#snowinhouston ': 308,\n",
       "             '#snowy! ': 154,\n",
       "             '#sunrise ': 1400,\n",
       "             '#texassnowday ': 9,\n",
       "             '#thankyou ': 12,\n",
       "             '#txwx ': 160,\n",
       "             '#winterstorm ': 49})"
      ]
     },
     "execution_count": 25,
     "metadata": {},
     "output_type": "execute_result"
    }
   ],
   "source": [
    "tag_types"
   ]
  },
  {
   "cell_type": "code",
   "execution_count": 26,
   "metadata": {},
   "outputs": [
    {
     "data": {
      "text/plain": [
       "[('#houwx ', 25081),\n",
       " ('#houtraffic ', 17088),\n",
       " ('#Houston ', 4179),\n",
       " ('#fox26wx ', 3552),\n",
       " ('#houstonweather ', 2942),\n",
       " ('#sunrise ', 1400),\n",
       " ('#MCD ', 1188),\n",
       " ('#Icepocalypse2018 ', 1186),\n",
       " ('#bcswx ', 1184),\n",
       " ('#abc13 ', 1184),\n",
       " ('#TrafficAlert ', 896),\n",
       " ('#snowinhouston ', 308),\n",
       " ('#Chicken ', 240),\n",
       " ('#CityOfWestU ', 220),\n",
       " ('#CityofWestU ', 200),\n",
       " ('#hgxspotter ', 200),\n",
       " ('#Houwx ', 192),\n",
       " ('#HarrisCounty ', 192),\n",
       " ('#txwx ', 160),\n",
       " ('#actualsnow ', 154),\n",
       " ('#snowy! ', 154),\n",
       " ('#CityofWestU. ', 110),\n",
       " ('#KHOU11 ', 108),\n",
       " ('#homeless ', 100),\n",
       " ('#Harvey. ', 96),\n",
       " ('#CraftSocial ', 96),\n",
       " ('#Brrrr ', 96),\n",
       " ('#HouWx ', 96),\n",
       " ('#houstonsnow ', 96),\n",
       " ('#houstonmetro ', 96),\n",
       " ('#AyDiosFrio18 ', 96),\n",
       " ('#HoustonIce ', 96),\n",
       " ('#houstonweather. ', 96),\n",
       " ('#DreamActNow. ', 96),\n",
       " ('#HOUWX ', 96),\n",
       " ('#HISD ', 96),\n",
       " ('#Houston.\\n', 84),\n",
       " ('#winterstorm ', 49),\n",
       " ('#sleeting ', 36),\n",
       " ('#CEDHOU ', 30),\n",
       " ('#HouWx? ', 24),\n",
       " ('#IceinHouston ', 20),\n",
       " ('#HoustonSnow ', 16),\n",
       " ('#coldfront. ', 12),\n",
       " ('#thankyou ', 12),\n",
       " ('#closed ', 12),\n",
       " ('#ItsSoCold ', 12),\n",
       " ('#texassnowday ', 9),\n",
       " ('#houstonsnowdaypart2\\n', 9),\n",
       " ('#hounews ', 9),\n",
       " ('#feelslikeAlaska ', 9),\n",
       " ('#houtx ', 8),\n",
       " ('#Snowing ', 6),\n",
       " ('#icing ', 6),\n",
       " ('#SpringTX ', 6),\n",
       " ('#sleet ', 6),\n",
       " ('#TuesdayThoughts ', 6),\n",
       " ('#clouds ', 6),\n",
       " ('#snowflakes ', 6),\n",
       " ('#snow ', 6),\n",
       " ('#snowday ', 4),\n",
       " ('#HomelessOutreachTeam, ', 4),\n",
       " ('#GalvestonTX ', 4),\n",
       " ('#Climate ', 1),\n",
       " ('#Chicago ', 1),\n",
       " ('#SnowDay ', 1)]"
      ]
     },
     "execution_count": 26,
     "metadata": {},
     "output_type": "execute_result"
    }
   ],
   "source": [
    "sorted(tag_types.items(),key=lambda k_v: k_v[1],reverse=True)"
   ]
  },
  {
   "cell_type": "markdown",
   "metadata": {},
   "source": [
    "## Since we are pulling data based on houwx tag, there is no surprise this tag is mostly used in the data set.\n",
    "\n",
    "## We do find some interseting tags like \"feelslikeAlaska\",\"Chicken\".\n",
    "\n",
    "## Also, there are many tags related to snow. Apprantly, people in Houston are buzzed about SNOW, which is not common in Houston.\n",
    "\n",
    "## Next, let us explore the tweet time.\n"
   ]
  },
  {
   "cell_type": "code",
   "execution_count": 28,
   "metadata": {},
   "outputs": [
    {
     "data": {
      "text/plain": [
       "0        Fri Jan 19 05:24:02 +0000 2018\n",
       "1        Fri Jan 19 05:24:02 +0000 2018\n",
       "2        Fri Jan 19 05:24:02 +0000 2018\n",
       "3        Fri Jan 19 05:24:02 +0000 2018\n",
       "4        Fri Jan 19 05:24:02 +0000 2018\n",
       "5        Fri Jan 19 05:24:02 +0000 2018\n",
       "6        Fri Jan 19 05:24:02 +0000 2018\n",
       "7        Fri Jan 19 05:24:02 +0000 2018\n",
       "8        Fri Jan 19 05:24:02 +0000 2018\n",
       "9        Fri Jan 19 05:24:02 +0000 2018\n",
       "10       Fri Jan 19 05:24:02 +0000 2018\n",
       "11       Fri Jan 19 05:24:02 +0000 2018\n",
       "12       Fri Jan 19 05:24:02 +0000 2018\n",
       "13       Fri Jan 19 05:24:02 +0000 2018\n",
       "14       Fri Jan 19 05:24:02 +0000 2018\n",
       "15       Fri Jan 19 05:24:02 +0000 2018\n",
       "16       Fri Jan 19 05:24:02 +0000 2018\n",
       "17       Fri Jan 19 05:24:02 +0000 2018\n",
       "18       Fri Jan 19 05:24:02 +0000 2018\n",
       "19       Fri Jan 19 05:24:02 +0000 2018\n",
       "20       Fri Jan 19 05:24:02 +0000 2018\n",
       "21       Fri Jan 19 05:24:02 +0000 2018\n",
       "22       Fri Jan 19 05:24:02 +0000 2018\n",
       "23       Fri Jan 19 05:24:02 +0000 2018\n",
       "24       Fri Jan 19 05:24:02 +0000 2018\n",
       "25       Fri Jan 19 05:24:02 +0000 2018\n",
       "26       Fri Jan 19 05:24:02 +0000 2018\n",
       "27       Fri Jan 19 05:24:02 +0000 2018\n",
       "28       Fri Jan 19 05:24:02 +0000 2018\n",
       "29       Fri Jan 19 05:24:02 +0000 2018\n",
       "                      ...              \n",
       "64919    Tue Jan 16 13:38:35 +0000 2018\n",
       "64920    Tue Jan 16 13:38:35 +0000 2018\n",
       "64921    Tue Jan 16 13:38:35 +0000 2018\n",
       "64922    Tue Jan 16 13:38:35 +0000 2018\n",
       "64923    Tue Jan 16 13:38:35 +0000 2018\n",
       "64924    Mon Jan 15 23:33:53 +0000 2018\n",
       "64925    Mon Jan 15 23:33:53 +0000 2018\n",
       "64926    Mon Jan 15 23:33:53 +0000 2018\n",
       "64927    Mon Jan 15 23:33:53 +0000 2018\n",
       "64928    Mon Jan 15 23:33:53 +0000 2018\n",
       "64929    Mon Jan 15 23:33:53 +0000 2018\n",
       "64930    Mon Jan 15 22:31:52 +0000 2018\n",
       "64931    Mon Jan 15 22:31:52 +0000 2018\n",
       "64932    Mon Jan 15 22:31:52 +0000 2018\n",
       "64933    Mon Jan 15 22:31:52 +0000 2018\n",
       "64934    Mon Jan 15 22:31:52 +0000 2018\n",
       "64935    Mon Jan 15 22:31:52 +0000 2018\n",
       "64936    Tue Jan 16 16:00:55 +0000 2018\n",
       "64937    Tue Jan 16 16:00:55 +0000 2018\n",
       "64938    Tue Jan 16 16:00:55 +0000 2018\n",
       "64939    Tue Jan 16 16:00:55 +0000 2018\n",
       "64940    Tue Jan 16 16:00:55 +0000 2018\n",
       "64941    Tue Jan 16 16:00:55 +0000 2018\n",
       "64942    Tue Jan 16 16:00:55 +0000 2018\n",
       "64943    Tue Jan 16 16:00:55 +0000 2018\n",
       "64944    Tue Jan 16 16:00:55 +0000 2018\n",
       "64945    Tue Jan 16 16:00:55 +0000 2018\n",
       "64946    Tue Jan 16 16:00:55 +0000 2018\n",
       "64947    Tue Jan 16 16:00:55 +0000 2018\n",
       "64948    Tue Jan 16 20:32:33 +0000 2018\n",
       "Name: created_at, Length: 64949, dtype: object"
      ]
     },
     "execution_count": 28,
     "metadata": {},
     "output_type": "execute_result"
    }
   ],
   "source": [
    "data.created_at"
   ]
  },
  {
   "cell_type": "code",
   "execution_count": 29,
   "metadata": {
    "collapsed": true
   },
   "outputs": [],
   "source": [
    "sample=data.created_at[:10]"
   ]
  },
  {
   "cell_type": "code",
   "execution_count": 30,
   "metadata": {},
   "outputs": [
    {
     "name": "stdout",
     "output_type": "stream",
     "text": [
      "['Fri', 'Jan', '19', '05:24:02']\n",
      "['Fri', 'Jan', '19', '05:24:02']\n",
      "['Fri', 'Jan', '19', '05:24:02']\n",
      "['Fri', 'Jan', '19', '05:24:02']\n",
      "['Fri', 'Jan', '19', '05:24:02']\n",
      "['Fri', 'Jan', '19', '05:24:02']\n",
      "['Fri', 'Jan', '19', '05:24:02']\n",
      "['Fri', 'Jan', '19', '05:24:02']\n",
      "['Fri', 'Jan', '19', '05:24:02']\n",
      "['Fri', 'Jan', '19', '05:24:02']\n"
     ]
    }
   ],
   "source": [
    "for text in sample:\n",
    "    print (text.split()[:4])"
   ]
  },
  {
   "cell_type": "code",
   "execution_count": 104,
   "metadata": {},
   "outputs": [
    {
     "data": {
      "text/html": [
       "<div>\n",
       "<style>\n",
       "    .dataframe thead tr:only-child th {\n",
       "        text-align: right;\n",
       "    }\n",
       "\n",
       "    .dataframe thead th {\n",
       "        text-align: left;\n",
       "    }\n",
       "\n",
       "    .dataframe tbody tr th {\n",
       "        vertical-align: top;\n",
       "    }\n",
       "</style>\n",
       "<table border=\"1\" class=\"dataframe\">\n",
       "  <thead>\n",
       "    <tr style=\"text-align: right;\">\n",
       "      <th></th>\n",
       "      <th>created_at</th>\n",
       "      <th>description</th>\n",
       "      <th>favorite_count</th>\n",
       "      <th>followers</th>\n",
       "      <th>id</th>\n",
       "      <th>is_quote_status</th>\n",
       "      <th>retweet_count</th>\n",
       "      <th>trunc_text</th>\n",
       "      <th>user_location</th>\n",
       "      <th>username</th>\n",
       "      <th>verified</th>\n",
       "      <th>text</th>\n",
       "      <th>dummy</th>\n",
       "      <th>day</th>\n",
       "      <th>hour</th>\n",
       "    </tr>\n",
       "  </thead>\n",
       "  <tbody>\n",
       "    <tr>\n",
       "      <th>0</th>\n",
       "      <td>Fri Jan 19 05:24:02 +0000 2018</td>\n",
       "      <td>NaN</td>\n",
       "      <td>0</td>\n",
       "      <td>568</td>\n",
       "      <td>954222899832999938</td>\n",
       "      <td>False</td>\n",
       "      <td>19</td>\n",
       "      <td>RT @HCSOTexas: #houtraffic - #houwx \\n TXDOT r...</td>\n",
       "      <td>Houston, TX</td>\n",
       "      <td>DrLatekiLewis</td>\n",
       "      <td>False</td>\n",
       "      <td>RT @HCSOTexas: #houtraffic - #houwx \\n TXDOT r...</td>\n",
       "      <td>1</td>\n",
       "      <td>19</td>\n",
       "      <td>05</td>\n",
       "    </tr>\n",
       "    <tr>\n",
       "      <th>1</th>\n",
       "      <td>Fri Jan 19 05:24:02 +0000 2018</td>\n",
       "      <td>NaN</td>\n",
       "      <td>0</td>\n",
       "      <td>568</td>\n",
       "      <td>954222899832999938</td>\n",
       "      <td>False</td>\n",
       "      <td>19</td>\n",
       "      <td>RT @HCSOTexas: #houtraffic - #houwx \\n TXDOT r...</td>\n",
       "      <td>Houston, TX</td>\n",
       "      <td>DrLatekiLewis</td>\n",
       "      <td>False</td>\n",
       "      <td>RT @HCSOTexas: #houtraffic - #houwx \\n TXDOT r...</td>\n",
       "      <td>1</td>\n",
       "      <td>19</td>\n",
       "      <td>05</td>\n",
       "    </tr>\n",
       "    <tr>\n",
       "      <th>2</th>\n",
       "      <td>Fri Jan 19 05:24:02 +0000 2018</td>\n",
       "      <td>NaN</td>\n",
       "      <td>0</td>\n",
       "      <td>568</td>\n",
       "      <td>954222899832999938</td>\n",
       "      <td>False</td>\n",
       "      <td>19</td>\n",
       "      <td>RT @HCSOTexas: #houtraffic - #houwx \\n TXDOT r...</td>\n",
       "      <td>Houston, TX</td>\n",
       "      <td>DrLatekiLewis</td>\n",
       "      <td>False</td>\n",
       "      <td>RT @HCSOTexas: #houtraffic - #houwx \\n TXDOT r...</td>\n",
       "      <td>1</td>\n",
       "      <td>19</td>\n",
       "      <td>05</td>\n",
       "    </tr>\n",
       "    <tr>\n",
       "      <th>3</th>\n",
       "      <td>Fri Jan 19 05:24:02 +0000 2018</td>\n",
       "      <td>NaN</td>\n",
       "      <td>0</td>\n",
       "      <td>568</td>\n",
       "      <td>954222899832999938</td>\n",
       "      <td>False</td>\n",
       "      <td>19</td>\n",
       "      <td>RT @HCSOTexas: #houtraffic - #houwx \\n TXDOT r...</td>\n",
       "      <td>Houston, TX</td>\n",
       "      <td>DrLatekiLewis</td>\n",
       "      <td>False</td>\n",
       "      <td>RT @HCSOTexas: #houtraffic - #houwx \\n TXDOT r...</td>\n",
       "      <td>1</td>\n",
       "      <td>19</td>\n",
       "      <td>05</td>\n",
       "    </tr>\n",
       "    <tr>\n",
       "      <th>4</th>\n",
       "      <td>Fri Jan 19 05:24:02 +0000 2018</td>\n",
       "      <td>NaN</td>\n",
       "      <td>0</td>\n",
       "      <td>568</td>\n",
       "      <td>954222899832999938</td>\n",
       "      <td>False</td>\n",
       "      <td>19</td>\n",
       "      <td>RT @HCSOTexas: #houtraffic - #houwx \\n TXDOT r...</td>\n",
       "      <td>Houston, TX</td>\n",
       "      <td>DrLatekiLewis</td>\n",
       "      <td>False</td>\n",
       "      <td>RT @HCSOTexas: #houtraffic - #houwx \\n TXDOT r...</td>\n",
       "      <td>1</td>\n",
       "      <td>19</td>\n",
       "      <td>05</td>\n",
       "    </tr>\n",
       "  </tbody>\n",
       "</table>\n",
       "</div>"
      ],
      "text/plain": [
       "                       created_at description  favorite_count  followers  \\\n",
       "0  Fri Jan 19 05:24:02 +0000 2018         NaN               0        568   \n",
       "1  Fri Jan 19 05:24:02 +0000 2018         NaN               0        568   \n",
       "2  Fri Jan 19 05:24:02 +0000 2018         NaN               0        568   \n",
       "3  Fri Jan 19 05:24:02 +0000 2018         NaN               0        568   \n",
       "4  Fri Jan 19 05:24:02 +0000 2018         NaN               0        568   \n",
       "\n",
       "                   id  is_quote_status  retweet_count  \\\n",
       "0  954222899832999938            False             19   \n",
       "1  954222899832999938            False             19   \n",
       "2  954222899832999938            False             19   \n",
       "3  954222899832999938            False             19   \n",
       "4  954222899832999938            False             19   \n",
       "\n",
       "                                          trunc_text user_location  \\\n",
       "0  RT @HCSOTexas: #houtraffic - #houwx \\n TXDOT r...   Houston, TX   \n",
       "1  RT @HCSOTexas: #houtraffic - #houwx \\n TXDOT r...   Houston, TX   \n",
       "2  RT @HCSOTexas: #houtraffic - #houwx \\n TXDOT r...   Houston, TX   \n",
       "3  RT @HCSOTexas: #houtraffic - #houwx \\n TXDOT r...   Houston, TX   \n",
       "4  RT @HCSOTexas: #houtraffic - #houwx \\n TXDOT r...   Houston, TX   \n",
       "\n",
       "        username  verified                                               text  \\\n",
       "0  DrLatekiLewis     False  RT @HCSOTexas: #houtraffic - #houwx \\n TXDOT r...   \n",
       "1  DrLatekiLewis     False  RT @HCSOTexas: #houtraffic - #houwx \\n TXDOT r...   \n",
       "2  DrLatekiLewis     False  RT @HCSOTexas: #houtraffic - #houwx \\n TXDOT r...   \n",
       "3  DrLatekiLewis     False  RT @HCSOTexas: #houtraffic - #houwx \\n TXDOT r...   \n",
       "4  DrLatekiLewis     False  RT @HCSOTexas: #houtraffic - #houwx \\n TXDOT r...   \n",
       "\n",
       "   dummy day hour  \n",
       "0      1  19   05  \n",
       "1      1  19   05  \n",
       "2      1  19   05  \n",
       "3      1  19   05  \n",
       "4      1  19   05  "
      ]
     },
     "execution_count": 104,
     "metadata": {},
     "output_type": "execute_result"
    }
   ],
   "source": [
    "data.head()"
   ]
  },
  {
   "cell_type": "code",
   "execution_count": 103,
   "metadata": {
    "collapsed": true
   },
   "outputs": [],
   "source": [
    "def get_day(time):\n",
    "    day=time.split()[2]\n",
    "    return day\n",
    "\n",
    "def get_hour(time):\n",
    "    hour=time.split()[3]\n",
    "    hour=hour.split(':')[0]\n",
    "    return hour\n",
    "\n",
    "data['day'] =data.created_at.apply(get_day)\n",
    "data['hour'] =data.created_at.apply(get_hour)"
   ]
  },
  {
   "cell_type": "code",
   "execution_count": 114,
   "metadata": {
    "collapsed": true
   },
   "outputs": [],
   "source": [
    "tweet = data.drop(['created_at','description','favorite_count','followers','id','is_quote_status','retweet_count','trunc_text','user_location','username','verified'], axis=1)"
   ]
  },
  {
   "cell_type": "code",
   "execution_count": 122,
   "metadata": {
    "collapsed": true
   },
   "outputs": [],
   "source": [
    "tweet = tweet.dropna(axis=0, how='any')"
   ]
  },
  {
   "cell_type": "code",
   "execution_count": 123,
   "metadata": {},
   "outputs": [
    {
     "data": {
      "text/plain": [
       "text     64949\n",
       "dummy    64949\n",
       "day      64949\n",
       "hour     64949\n",
       "dtype: int64"
      ]
     },
     "execution_count": 123,
     "metadata": {},
     "output_type": "execute_result"
    }
   ],
   "source": [
    "tweet.count()"
   ]
  },
  {
   "cell_type": "code",
   "execution_count": 124,
   "metadata": {
    "collapsed": true
   },
   "outputs": [],
   "source": [
    "tweet.to_csv('tweet.csv', encoding='utf-8')"
   ]
  },
  {
   "cell_type": "code",
   "execution_count": 126,
   "metadata": {},
   "outputs": [
    {
     "data": {
      "text/plain": [
       "day  hour\n",
       "14   13         90\n",
       "15   18          6\n",
       "     19         90\n",
       "     20         84\n",
       "     21        216\n",
       "     22          6\n",
       "     23        194\n",
       "16   00         90\n",
       "     01         90\n",
       "     02        119\n",
       "     04        279\n",
       "     06         36\n",
       "     13        247\n",
       "     14         10\n",
       "     15        907\n",
       "     16        525\n",
       "     17        386\n",
       "     18        198\n",
       "     19        292\n",
       "     20        461\n",
       "     21        423\n",
       "     22        287\n",
       "     23       1829\n",
       "17   00        262\n",
       "     01        300\n",
       "     02        291\n",
       "     03        288\n",
       "     04        672\n",
       "     05        282\n",
       "     08         24\n",
       "             ...  \n",
       "     11         48\n",
       "     12         96\n",
       "     13        300\n",
       "     14          4\n",
       "     15         90\n",
       "     16         18\n",
       "     17          9\n",
       "     18        538\n",
       "     19         96\n",
       "     20        130\n",
       "     22         94\n",
       "18   01          8\n",
       "     03          8\n",
       "     06        240\n",
       "     12        240\n",
       "     13       5504\n",
       "     14      13870\n",
       "     15       6656\n",
       "     16       7104\n",
       "     17       2368\n",
       "     18       2368\n",
       "     19       1184\n",
       "     20       1184\n",
       "     22       2368\n",
       "     23       4072\n",
       "19   00       1184\n",
       "     01       1920\n",
       "     02       1184\n",
       "     04       1704\n",
       "     05       1184\n",
       "Name: dummy, Length: 61, dtype: int64"
      ]
     },
     "execution_count": 126,
     "metadata": {},
     "output_type": "execute_result"
    }
   ],
   "source": [
    "tweet.groupby(['day','hour']).dummy.count()"
   ]
  },
  {
   "cell_type": "markdown",
   "metadata": {
    "collapsed": true
   },
   "source": [
    "## To visulize when there are more/fewer tweets, we are going to use Tableau. Check the Tableau file in the data folder."
   ]
  },
  {
   "cell_type": "code",
   "execution_count": null,
   "metadata": {
    "collapsed": true
   },
   "outputs": [],
   "source": []
  }
 ],
 "metadata": {
  "kernelspec": {
   "display_name": "Python [default]",
   "language": "python",
   "name": "python3"
  },
  "language_info": {
   "codemirror_mode": {
    "name": "ipython",
    "version": 3
   },
   "file_extension": ".py",
   "mimetype": "text/x-python",
   "name": "python",
   "nbconvert_exporter": "python",
   "pygments_lexer": "ipython3",
   "version": "3.5.3"
  }
 },
 "nbformat": 4,
 "nbformat_minor": 2
}
